{
 "cells": [
  {
   "cell_type": "markdown",
   "metadata": {},
   "source": [
    "# step by step notebook for reproducing the workflow from RT pred manuscript \n",
    "\n",
    "Ensure that the requriements are met i.e.\n",
    "- rdkit \n",
    "- pytorch \n",
    "- deepchem\n",
    "- chemprop\n",
    "- etc.. \n",
    "\n",
    "\n"
   ]
  },
  {
   "cell_type": "code",
   "execution_count": 1,
   "metadata": {},
   "outputs": [],
   "source": [
    "import pandas as pd \n",
    "from rdkit import Chem\n",
    "from rdkit import RDLogger \n",
    "import os \n",
    "\n",
    "RDLogger.DisableLog('rdApp.*') # disable rdkit log\n",
    "seed = 42\n"
   ]
  },
  {
   "cell_type": "markdown",
   "metadata": {},
   "source": [
    "## Featurization and data splitting\n",
    "\n",
    "This workflow is run using the METLIN SMRT Dataset published by Domingo-Almenara et al. https://www.nature.com/articles/s41467-019-13680-7 \n",
    "\n",
    "But any dataset could be used, however, it must contain columns 'rt' and 'smiles'\n",
    "\n",
    "By default we remove non-retained compounds from the METLIN SMRT dataset and subsample (2000, randomly)"
   ]
  },
  {
   "cell_type": "code",
   "execution_count": 2,
   "metadata": {},
   "outputs": [],
   "source": [
    "def get_METLIN_data(sampling = 2000, only_retained = True):\n",
    "    ''' Function to pull METLIN SMRT data from remote URL and save it as a csv file'''\n",
    "    #* pulling data from a URL\n",
    "    url = 'https://figshare.com/ndownloader/files/18130628'\n",
    "\n",
    "    #* read the data into a pandas dataframe and convert inchi to SMILES\n",
    "    df = pd.read_csv(url, sep=';')\n",
    "    df['mol'] = [Chem.MolFromInchi(x) for x in df['inchi']]\n",
    "    df['smiles'] = [Chem.MolToSmiles(mol) if mol is not None else None for mol in df['mol']]\n",
    "    df = df.dropna(axis = 0) #* dropping rows with NaN values as some mols did not convert to SMILES\n",
    "\n",
    "    #* removing non-retained compounds\n",
    "    if only_retained:\n",
    "        df = df[df['rt'] > 200]\n",
    "\n",
    "    #* sampling the data\n",
    "    df_subset = df[['smiles','rt']].sample(sampling)\n",
    "\n",
    "    #* outputting the data in a csv file\n",
    "    output_dir = '../data/metlin_smrt'\n",
    "    if not os.path.exists(output_dir):\n",
    "        os.makedirs(output_dir)\n",
    "    df_subset.to_csv(os.path.join(output_dir, f'sample_dataset_{sampling}_datapoints.csv'), index=False)\n",
    "    print(df_subset.head(3))"
   ]
  },
  {
   "cell_type": "code",
   "execution_count": 3,
   "metadata": {},
   "outputs": [
    {
     "name": "stdout",
     "output_type": "stream",
     "text": [
      "                                                  smiles     rt\n",
      "59360  OC(=Nc1cccc(Cl)c1)c1cn(C[C@H](O)c2ccc3c(c2)OCO...  863.0\n",
      "34436  N=C(O)C1CCN(C(=O)c2ccc(CN3C(=O)CCn4nc(-c5ccc(C...  712.7\n",
      "31869                Cc1cc(=NC(=O)c2ccc(=O)n(C)n2)[nH]o1  597.7\n"
     ]
    }
   ],
   "source": [
    "get_METLIN_data(sampling = 100, only_retained = True)"
   ]
  },
  {
   "cell_type": "markdown",
   "metadata": {},
   "source": [
    "There are a number of features that we use for modeling. \n",
    "\n",
    "- LogD descriptor set (pH 0.5 to 7.4)\n",
    "- ECFP4-2048 fingerprints\n",
    "- RDKit descriptors \n",
    "- molecular graph convolutions \n",
    "\n",
    "based on the feature_list ``` feature_list = ['logD', 'ecfp4_csv', 'ecfp4_disk', 'rdkit_csv', 'rdkit_disk', 'molgraphconv]``` it is possible to define which features to be calculated. \n",
    "\n",
    "Note that the ECFP4 and RDKit descriptors come in two variants: a flat .csv file or a DeepChem DiskData object. This choice will depend on downstream application and models.\n"
   ]
  },
  {
   "cell_type": "code",
   "execution_count": 19,
   "metadata": {},
   "outputs": [
    {
     "ename": "ModuleNotFoundError",
     "evalue": "No module named 'deepchem'",
     "output_type": "error",
     "traceback": [
      "\u001b[1;31m---------------------------------------------------------------------------\u001b[0m",
      "\u001b[1;31mModuleNotFoundError\u001b[0m                       Traceback (most recent call last)",
      "Cell \u001b[1;32mIn[19], line 4\u001b[0m\n\u001b[0;32m      1\u001b[0m feature_list \u001b[39m=\u001b[39m [\u001b[39m'\u001b[39m\u001b[39mlogD\u001b[39m\u001b[39m'\u001b[39m, \u001b[39m'\u001b[39m\u001b[39mecfp4_csv\u001b[39m\u001b[39m'\u001b[39m, \u001b[39m'\u001b[39m\u001b[39mecfp4_disk\u001b[39m\u001b[39m'\u001b[39m, \u001b[39m'\u001b[39m\u001b[39mrdkit_csv\u001b[39m\u001b[39m'\u001b[39m, \u001b[39m'\u001b[39m\u001b[39mrdkit_disk\u001b[39m\u001b[39m'\u001b[39m, \u001b[39m'\u001b[39m\u001b[39mmolgraphconv\u001b[39m\u001b[39m'\u001b[39m]\n\u001b[1;32m----> 4\u001b[0m \u001b[39mimport\u001b[39;00m \u001b[39mdeepchem\u001b[39;00m \u001b[39mas\u001b[39;00m \u001b[39mdc\u001b[39;00m\n\u001b[0;32m      6\u001b[0m \u001b[39mdef\u001b[39;00m \u001b[39mget_features\u001b[39m(feature_list, path_to_chemaxon_licence \u001b[39m=\u001b[39m \u001b[39mNone\u001b[39;00m):\n\u001b[0;32m      7\u001b[0m \u001b[39m    \u001b[39m\u001b[39m'''function to get the features from the input feature_list'''\u001b[39;00m\n",
      "\u001b[1;31mModuleNotFoundError\u001b[0m: No module named 'deepchem'"
     ]
    }
   ],
   "source": [
    "feature_list = ['logD', 'ecfp4_csv', 'ecfp4_disk', 'rdkit_csv', 'rdkit_disk', 'molgraphconv']\n",
    "\n",
    "\n",
    "import deepchem as dc\n",
    "                \n",
    "def get_features(feature_list, path_to_chemaxon_licence = None):\n",
    "    '''function to get the features from the input feature_list'''\n",
    "    \n",
    "    ###* LOG D Calculations\n",
    "    if 'logD' in feature_list and path_to_chemaxon_licence is not None:\n",
    "        target_dir = os.path.join(feature_dir,'logd_calculations')\n",
    "        if not os.path.exists(target_dir):\n",
    "            os.makedirs(target_dir)\n",
    "\n",
    "        ##* the SMILES must be saved in a flat file for the cmdline tool to read them \n",
    "        # subsetting the test data, to save time\n",
    "        data_for_calc = data[['SMILES']].reset_index(drop=True)\n",
    "\n",
    "        print('ChemAxon-based LogD calculations')\n",
    "\n",
    "        desc = LogD_calculations(data_for_calc, path_to_binning_matrix=None)\n",
    "\n",
    "        desc = data.merge(desc, on = 'SMILES', how = 'left')\n",
    "\n",
    "        desc.to_csv(os.path.join(target_dir, 'all_data.csv'), index=False)\n",
    "\n",
    "\n",
    "        NA_alert = desc.isna().any().any()\n",
    "        if NA_alert:\n",
    "            print('*** NA values in:',target_dir)\n",
    "        else:\n",
    "            print('*** No NA found in :', target_dir)\n",
    "            \n",
    "            \n",
    "    ###* ECFP4 Calculations\n",
    "    if 'ecfp4_disk' in feature_list: \n",
    "    \n",
    "        target_dir = os.path.join(feature_dir,'ecfp4_disk')\n",
    "        if not os.path.exists(target_dir):\n",
    "            os.makedirs(target_dir)\n",
    "            \n",
    "        print('ECFP4 Featurization - to DiskDataset')\n",
    "\n",
    "        ## creating a deepchem dataset with featurized smiles\n",
    "        featurizer = dc.feat.CircularFingerprint(size=nBits, radius=radius)\n",
    "        feats = featurizer.featurize(data.SMILES)\n",
    "        dataset = dc.data.DiskDataset.from_numpy(feats, \n",
    "                                                data.adj_RT_sec, \n",
    "                                                tasks = ['RT_sec'], \n",
    "                                                ids = data.SMILES,\n",
    "                                                data_dir = os.path.join(target_dir,'all_data'))\n",
    "    \n",
    "\n",
    "    if 'ecfp4_csv' in feature_list: \n",
    "    \n",
    "        target_dir = os.path.join(feature_dir,'ecfp4_csv')\n",
    "        if not os.path.exists(target_dir):\n",
    "            os.makedirs(target_dir)\n",
    "\n",
    "        feats_df = dataset.to_dataframe()\n",
    "        feats_df.to_csv(os.path.join(target_dir, 'all_data_ecfp4.csv'),index = False)\n",
    "\n",
    "        NA_alert = feats_df.isna().any().any()\n",
    "        if NA_alert:\n",
    "            print('*** NA values in:',target_dir)\n",
    "        else:\n",
    "            print('*** No NA found in :', target_dir)\n"
   ]
  }
 ],
 "metadata": {
  "kernelspec": {
   "display_name": "datamol_env",
   "language": "python",
   "name": "python3"
  },
  "language_info": {
   "codemirror_mode": {
    "name": "ipython",
    "version": 3
   },
   "file_extension": ".py",
   "mimetype": "text/x-python",
   "name": "python",
   "nbconvert_exporter": "python",
   "pygments_lexer": "ipython3",
   "version": "3.9.16"
  },
  "orig_nbformat": 4
 },
 "nbformat": 4,
 "nbformat_minor": 2
}
